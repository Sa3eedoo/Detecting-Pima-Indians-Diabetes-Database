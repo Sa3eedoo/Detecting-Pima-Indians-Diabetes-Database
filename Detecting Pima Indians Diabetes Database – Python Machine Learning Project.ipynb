{
 "cells": [
  {
   "cell_type": "markdown",
   "metadata": {},
   "source": [
    "# Project: Investigate a Pima Indians Diabetes Dataset\n",
    "\n",
    "## Table of Contents\n",
    "<ul>\n",
    "<li><a href=\"#intro\">Introduction</a></li>\n",
    "<li><a href=\"#wrangling\">Data Wrangling</a></li>\n",
    "<li><a href=\"#eda\">Exploratory Data Analysis</a></li>\n",
    "<li><a href=\"#pre\">Prediction analysis (classification)</a></li>\n",
    "<li><a href=\"#conclusions\">Conclusions</a></li>\n",
    "</ul>"
   ]
  },
  {
   "cell_type": "markdown",
   "metadata": {},
   "source": [
    "<a id='intro'></a>\n",
    "## Introduction\n",
    "\n",
    "> Diabetes is one of the deadliest diseases in the world. It is not only a disease but also creator of different kinds of diseases like heart attack, blindness etc. The normal identifying process is that patients need to visit a diagnostic center, consult their doctor, and sit tight for a day or more to get their reports. So, the objective of this project is to identify whether the patient has diabetes or not based on diagnostic measurements.. Several constraints were placed on the selection of these instances from a larger database. In particular, all patients here are females at least 21 years old of Pima Indian heritage.\n",
    ">\n",
    "> The datasets consists of several medical predictor variables and one target variable, Outcome. Predictor variables includes the number of pregnancies the patient has had, their BMI, insulin level, age, and so on.\n",
    "\n",
    "> About Dataset:\n",
    "\n",
    ">> Pregnancies: No. of times pregnant\n",
    "\n",
    ">> Glucose: Plasma Glucose Concentration (mg/dl)\n",
    "\n",
    ">> Blood Pressure: Diastolic Blood Pressure(mmHg)\n",
    "\n",
    ">> Skin Thickness:A value used to estimate body fat. Normal Triceps SkinFold Thickness in women is 23mm. Higher thickness leads to obesity and chances of diabetes increases.\n",
    "\n",
    ">> Insulin: 2-Hour Serum Insulin (mu U/ml)\n",
    "\n",
    ">> BMI: Body Mass Index (weight in kg/ height in m2)\n",
    "\n",
    ">> Diabetes Pedigree Function: It provides information about diabetes history in relatives and genetic relationship of those relatives with patients. Higher Pedigree Function means patient is more likely to have diabetes.\n",
    "\n",
    ">> Age:Age (years)\n",
    "\n",
    ">> Outcome: Class Variable (0 or 1) where ‘0’ denotes patient is not having diabetes and ‘1’ denotes patient having diabetes."
   ]
  },
  {
   "cell_type": "code",
   "execution_count": 1,
   "metadata": {},
   "outputs": [],
   "source": [
    "# this cell is used to set up import statements for all of the packages that we plan to use.\n",
    "\n",
    "import pandas as pd\n",
    "import seaborn as sns\n",
    "import matplotlib.pyplot as plt\n",
    "import numpy as np\n",
    "%matplotlib inline"
   ]
  },
  {
   "cell_type": "markdown",
   "metadata": {},
   "source": [
    "<a id='wrangling'></a>\n",
    "## Data Wrangling\n",
    "\n",
    "> **Tip**: In this section of the report, we will load in the data, check for cleanliness, and then trim and clean our dataset for analysis.\n",
    "\n",
    "### General Properties"
   ]
  },
  {
   "cell_type": "code",
   "execution_count": 2,
   "metadata": {},
   "outputs": [
    {
     "data": {
      "text/html": [
       "<div>\n",
       "<style scoped>\n",
       "    .dataframe tbody tr th:only-of-type {\n",
       "        vertical-align: middle;\n",
       "    }\n",
       "\n",
       "    .dataframe tbody tr th {\n",
       "        vertical-align: top;\n",
       "    }\n",
       "\n",
       "    .dataframe thead th {\n",
       "        text-align: right;\n",
       "    }\n",
       "</style>\n",
       "<table border=\"1\" class=\"dataframe\">\n",
       "  <thead>\n",
       "    <tr style=\"text-align: right;\">\n",
       "      <th></th>\n",
       "      <th>Pregnancies</th>\n",
       "      <th>Glucose</th>\n",
       "      <th>BloodPressure</th>\n",
       "      <th>SkinThickness</th>\n",
       "      <th>Insulin</th>\n",
       "      <th>BMI</th>\n",
       "      <th>DiabetesPedigreeFunction</th>\n",
       "      <th>Age</th>\n",
       "      <th>Outcome</th>\n",
       "    </tr>\n",
       "  </thead>\n",
       "  <tbody>\n",
       "    <tr>\n",
       "      <th>1</th>\n",
       "      <td>6</td>\n",
       "      <td>148</td>\n",
       "      <td>72</td>\n",
       "      <td>35</td>\n",
       "      <td>0</td>\n",
       "      <td>33.6</td>\n",
       "      <td>0.627</td>\n",
       "      <td>50</td>\n",
       "      <td>1</td>\n",
       "    </tr>\n",
       "    <tr>\n",
       "      <th>2</th>\n",
       "      <td>1</td>\n",
       "      <td>85</td>\n",
       "      <td>66</td>\n",
       "      <td>29</td>\n",
       "      <td>0</td>\n",
       "      <td>26.6</td>\n",
       "      <td>0.351</td>\n",
       "      <td>31</td>\n",
       "      <td>0</td>\n",
       "    </tr>\n",
       "    <tr>\n",
       "      <th>3</th>\n",
       "      <td>8</td>\n",
       "      <td>183</td>\n",
       "      <td>64</td>\n",
       "      <td>0</td>\n",
       "      <td>0</td>\n",
       "      <td>23.3</td>\n",
       "      <td>0.672</td>\n",
       "      <td>32</td>\n",
       "      <td>1</td>\n",
       "    </tr>\n",
       "    <tr>\n",
       "      <th>4</th>\n",
       "      <td>1</td>\n",
       "      <td>89</td>\n",
       "      <td>66</td>\n",
       "      <td>23</td>\n",
       "      <td>94</td>\n",
       "      <td>28.1</td>\n",
       "      <td>0.167</td>\n",
       "      <td>21</td>\n",
       "      <td>0</td>\n",
       "    </tr>\n",
       "    <tr>\n",
       "      <th>5</th>\n",
       "      <td>0</td>\n",
       "      <td>137</td>\n",
       "      <td>40</td>\n",
       "      <td>35</td>\n",
       "      <td>168</td>\n",
       "      <td>43.1</td>\n",
       "      <td>2.288</td>\n",
       "      <td>33</td>\n",
       "      <td>1</td>\n",
       "    </tr>\n",
       "    <tr>\n",
       "      <th>...</th>\n",
       "      <td>...</td>\n",
       "      <td>...</td>\n",
       "      <td>...</td>\n",
       "      <td>...</td>\n",
       "      <td>...</td>\n",
       "      <td>...</td>\n",
       "      <td>...</td>\n",
       "      <td>...</td>\n",
       "      <td>...</td>\n",
       "    </tr>\n",
       "    <tr>\n",
       "      <th>764</th>\n",
       "      <td>10</td>\n",
       "      <td>101</td>\n",
       "      <td>76</td>\n",
       "      <td>48</td>\n",
       "      <td>180</td>\n",
       "      <td>32.9</td>\n",
       "      <td>0.171</td>\n",
       "      <td>63</td>\n",
       "      <td>0</td>\n",
       "    </tr>\n",
       "    <tr>\n",
       "      <th>765</th>\n",
       "      <td>2</td>\n",
       "      <td>122</td>\n",
       "      <td>70</td>\n",
       "      <td>27</td>\n",
       "      <td>0</td>\n",
       "      <td>36.8</td>\n",
       "      <td>0.340</td>\n",
       "      <td>27</td>\n",
       "      <td>0</td>\n",
       "    </tr>\n",
       "    <tr>\n",
       "      <th>766</th>\n",
       "      <td>5</td>\n",
       "      <td>121</td>\n",
       "      <td>72</td>\n",
       "      <td>23</td>\n",
       "      <td>112</td>\n",
       "      <td>26.2</td>\n",
       "      <td>0.245</td>\n",
       "      <td>30</td>\n",
       "      <td>0</td>\n",
       "    </tr>\n",
       "    <tr>\n",
       "      <th>767</th>\n",
       "      <td>1</td>\n",
       "      <td>126</td>\n",
       "      <td>60</td>\n",
       "      <td>0</td>\n",
       "      <td>0</td>\n",
       "      <td>30.1</td>\n",
       "      <td>0.349</td>\n",
       "      <td>47</td>\n",
       "      <td>1</td>\n",
       "    </tr>\n",
       "    <tr>\n",
       "      <th>768</th>\n",
       "      <td>1</td>\n",
       "      <td>93</td>\n",
       "      <td>70</td>\n",
       "      <td>31</td>\n",
       "      <td>0</td>\n",
       "      <td>30.4</td>\n",
       "      <td>0.315</td>\n",
       "      <td>23</td>\n",
       "      <td>0</td>\n",
       "    </tr>\n",
       "  </tbody>\n",
       "</table>\n",
       "<p>768 rows × 9 columns</p>\n",
       "</div>"
      ],
      "text/plain": [
       "     Pregnancies  Glucose  BloodPressure  SkinThickness  Insulin   BMI  \\\n",
       "1              6      148             72             35        0  33.6   \n",
       "2              1       85             66             29        0  26.6   \n",
       "3              8      183             64              0        0  23.3   \n",
       "4              1       89             66             23       94  28.1   \n",
       "5              0      137             40             35      168  43.1   \n",
       "..           ...      ...            ...            ...      ...   ...   \n",
       "764           10      101             76             48      180  32.9   \n",
       "765            2      122             70             27        0  36.8   \n",
       "766            5      121             72             23      112  26.2   \n",
       "767            1      126             60              0        0  30.1   \n",
       "768            1       93             70             31        0  30.4   \n",
       "\n",
       "     DiabetesPedigreeFunction  Age  Outcome  \n",
       "1                       0.627   50        1  \n",
       "2                       0.351   31        0  \n",
       "3                       0.672   32        1  \n",
       "4                       0.167   21        0  \n",
       "5                       2.288   33        1  \n",
       "..                        ...  ...      ...  \n",
       "764                     0.171   63        0  \n",
       "765                     0.340   27        0  \n",
       "766                     0.245   30        0  \n",
       "767                     0.349   47        1  \n",
       "768                     0.315   23        0  \n",
       "\n",
       "[768 rows x 9 columns]"
      ]
     },
     "execution_count": 2,
     "metadata": {},
     "output_type": "execute_result"
    }
   ],
   "source": [
    "# Loading our data and printing out a few lines.  \n",
    "df = pd.read_csv(\"diabetes.csv\")\n",
    "df.index = np.arange(1, len(df) + 1)\n",
    "df"
   ]
  },
  {
   "cell_type": "code",
   "execution_count": 3,
   "metadata": {},
   "outputs": [
    {
     "name": "stdout",
     "output_type": "stream",
     "text": [
      "<class 'pandas.core.frame.DataFrame'>\n",
      "Int64Index: 768 entries, 1 to 768\n",
      "Data columns (total 9 columns):\n",
      " #   Column                    Non-Null Count  Dtype  \n",
      "---  ------                    --------------  -----  \n",
      " 0   Pregnancies               768 non-null    int64  \n",
      " 1   Glucose                   768 non-null    int64  \n",
      " 2   BloodPressure             768 non-null    int64  \n",
      " 3   SkinThickness             768 non-null    int64  \n",
      " 4   Insulin                   768 non-null    int64  \n",
      " 5   BMI                       768 non-null    float64\n",
      " 6   DiabetesPedigreeFunction  768 non-null    float64\n",
      " 7   Age                       768 non-null    int64  \n",
      " 8   Outcome                   768 non-null    int64  \n",
      "dtypes: float64(2), int64(7)\n",
      "memory usage: 60.0 KB\n"
     ]
    }
   ],
   "source": [
    "# Performing operations to inspect our data types.\n",
    "df.info()"
   ]
  },
  {
   "cell_type": "code",
   "execution_count": 4,
   "metadata": {},
   "outputs": [
    {
     "data": {
      "text/plain": [
       "Pregnancies                 0\n",
       "Glucose                     0\n",
       "BloodPressure               0\n",
       "SkinThickness               0\n",
       "Insulin                     0\n",
       "BMI                         0\n",
       "DiabetesPedigreeFunction    0\n",
       "Age                         0\n",
       "Outcome                     0\n",
       "dtype: int64"
      ]
     },
     "execution_count": 4,
     "metadata": {},
     "output_type": "execute_result"
    }
   ],
   "source": [
    "# looking for instances of missing or possibly errant data\n",
    "df.isnull().sum()"
   ]
  },
  {
   "cell_type": "markdown",
   "metadata": {},
   "source": [
    "### Data Cleaning"
   ]
  },
  {
   "cell_type": "code",
   "execution_count": 5,
   "metadata": {},
   "outputs": [
    {
     "data": {
      "text/plain": [
       "Pregnancies                   0\n",
       "Glucose                       5\n",
       "BloodPressure                35\n",
       "SkinThickness               227\n",
       "Insulin                     374\n",
       "BMI                          11\n",
       "DiabetesPedigreeFunction      0\n",
       "Age                           0\n",
       "Outcome                       0\n",
       "dtype: int64"
      ]
     },
     "execution_count": 5,
     "metadata": {},
     "output_type": "execute_result"
    }
   ],
   "source": [
    "# replacing any 0 in Glucose, BloodPressure, SkinThickness, Insulin, BMI, DiabetesPedigreeFunction, Age with None\n",
    "df['Glucose'].replace([0], [None], inplace=True)\n",
    "df['BloodPressure'].replace([0], [None], inplace=True)\n",
    "df['SkinThickness'].replace([0], [None], inplace=True)\n",
    "df['Insulin'].replace([0], [None], inplace=True)\n",
    "df['BMI'].replace([0], [None], inplace=True)\n",
    "df['DiabetesPedigreeFunction'].replace([0], [None], inplace=True)\n",
    "df['Age'].replace([0], [None], inplace=True)\n",
    "\n",
    "df.isnull().sum()"
   ]
  },
  {
   "cell_type": "code",
   "execution_count": 6,
   "metadata": {},
   "outputs": [
    {
     "data": {
      "text/plain": [
       "Pregnancies                 0\n",
       "Glucose                     0\n",
       "BloodPressure               0\n",
       "SkinThickness               0\n",
       "Insulin                     3\n",
       "BMI                         0\n",
       "DiabetesPedigreeFunction    0\n",
       "Age                         0\n",
       "Outcome                     0\n",
       "dtype: int64"
      ]
     },
     "execution_count": 6,
     "metadata": {},
     "output_type": "execute_result"
    }
   ],
   "source": [
    "# forward fill NaN values down\n",
    "# replace NaN values with the previous value in the column\n",
    "df.fillna(method = 'ffill', axis = 0, inplace=True)\n",
    "\n",
    "df.isnull().sum()"
   ]
  },
  {
   "cell_type": "code",
   "execution_count": 7,
   "metadata": {},
   "outputs": [
    {
     "data": {
      "text/plain": [
       "Pregnancies                 0\n",
       "Glucose                     0\n",
       "BloodPressure               0\n",
       "SkinThickness               0\n",
       "Insulin                     0\n",
       "BMI                         0\n",
       "DiabetesPedigreeFunction    0\n",
       "Age                         0\n",
       "Outcome                     0\n",
       "dtype: int64"
      ]
     },
     "execution_count": 7,
     "metadata": {},
     "output_type": "execute_result"
    }
   ],
   "source": [
    "# drop remaining missing values\n",
    "df.dropna(inplace=True)\n",
    "\n",
    "df.isnull().sum()"
   ]
  },
  {
   "cell_type": "code",
   "execution_count": 8,
   "metadata": {},
   "outputs": [
    {
     "data": {
      "text/html": [
       "<div>\n",
       "<style scoped>\n",
       "    .dataframe tbody tr th:only-of-type {\n",
       "        vertical-align: middle;\n",
       "    }\n",
       "\n",
       "    .dataframe tbody tr th {\n",
       "        vertical-align: top;\n",
       "    }\n",
       "\n",
       "    .dataframe thead th {\n",
       "        text-align: right;\n",
       "    }\n",
       "</style>\n",
       "<table border=\"1\" class=\"dataframe\">\n",
       "  <thead>\n",
       "    <tr style=\"text-align: right;\">\n",
       "      <th></th>\n",
       "      <th>Pregnancies</th>\n",
       "      <th>Glucose</th>\n",
       "      <th>BloodPressure</th>\n",
       "      <th>SkinThickness</th>\n",
       "      <th>Insulin</th>\n",
       "      <th>BMI</th>\n",
       "      <th>DiabetesPedigreeFunction</th>\n",
       "      <th>Age</th>\n",
       "      <th>Outcome</th>\n",
       "    </tr>\n",
       "  </thead>\n",
       "  <tbody>\n",
       "    <tr>\n",
       "      <th>1</th>\n",
       "      <td>1</td>\n",
       "      <td>89</td>\n",
       "      <td>66</td>\n",
       "      <td>23</td>\n",
       "      <td>94.0</td>\n",
       "      <td>28.1</td>\n",
       "      <td>0.167</td>\n",
       "      <td>21</td>\n",
       "      <td>0</td>\n",
       "    </tr>\n",
       "    <tr>\n",
       "      <th>2</th>\n",
       "      <td>0</td>\n",
       "      <td>137</td>\n",
       "      <td>40</td>\n",
       "      <td>35</td>\n",
       "      <td>168.0</td>\n",
       "      <td>43.1</td>\n",
       "      <td>2.288</td>\n",
       "      <td>33</td>\n",
       "      <td>1</td>\n",
       "    </tr>\n",
       "    <tr>\n",
       "      <th>3</th>\n",
       "      <td>5</td>\n",
       "      <td>116</td>\n",
       "      <td>74</td>\n",
       "      <td>35</td>\n",
       "      <td>168.0</td>\n",
       "      <td>25.6</td>\n",
       "      <td>0.201</td>\n",
       "      <td>30</td>\n",
       "      <td>0</td>\n",
       "    </tr>\n",
       "    <tr>\n",
       "      <th>4</th>\n",
       "      <td>3</td>\n",
       "      <td>78</td>\n",
       "      <td>50</td>\n",
       "      <td>32</td>\n",
       "      <td>88.0</td>\n",
       "      <td>31.0</td>\n",
       "      <td>0.248</td>\n",
       "      <td>26</td>\n",
       "      <td>1</td>\n",
       "    </tr>\n",
       "    <tr>\n",
       "      <th>5</th>\n",
       "      <td>10</td>\n",
       "      <td>115</td>\n",
       "      <td>50</td>\n",
       "      <td>32</td>\n",
       "      <td>88.0</td>\n",
       "      <td>35.3</td>\n",
       "      <td>0.134</td>\n",
       "      <td>29</td>\n",
       "      <td>0</td>\n",
       "    </tr>\n",
       "    <tr>\n",
       "      <th>...</th>\n",
       "      <td>...</td>\n",
       "      <td>...</td>\n",
       "      <td>...</td>\n",
       "      <td>...</td>\n",
       "      <td>...</td>\n",
       "      <td>...</td>\n",
       "      <td>...</td>\n",
       "      <td>...</td>\n",
       "      <td>...</td>\n",
       "    </tr>\n",
       "    <tr>\n",
       "      <th>761</th>\n",
       "      <td>10</td>\n",
       "      <td>101</td>\n",
       "      <td>76</td>\n",
       "      <td>48</td>\n",
       "      <td>180.0</td>\n",
       "      <td>32.9</td>\n",
       "      <td>0.171</td>\n",
       "      <td>63</td>\n",
       "      <td>0</td>\n",
       "    </tr>\n",
       "    <tr>\n",
       "      <th>762</th>\n",
       "      <td>2</td>\n",
       "      <td>122</td>\n",
       "      <td>70</td>\n",
       "      <td>27</td>\n",
       "      <td>180.0</td>\n",
       "      <td>36.8</td>\n",
       "      <td>0.340</td>\n",
       "      <td>27</td>\n",
       "      <td>0</td>\n",
       "    </tr>\n",
       "    <tr>\n",
       "      <th>763</th>\n",
       "      <td>5</td>\n",
       "      <td>121</td>\n",
       "      <td>72</td>\n",
       "      <td>23</td>\n",
       "      <td>112.0</td>\n",
       "      <td>26.2</td>\n",
       "      <td>0.245</td>\n",
       "      <td>30</td>\n",
       "      <td>0</td>\n",
       "    </tr>\n",
       "    <tr>\n",
       "      <th>764</th>\n",
       "      <td>1</td>\n",
       "      <td>126</td>\n",
       "      <td>60</td>\n",
       "      <td>23</td>\n",
       "      <td>112.0</td>\n",
       "      <td>30.1</td>\n",
       "      <td>0.349</td>\n",
       "      <td>47</td>\n",
       "      <td>1</td>\n",
       "    </tr>\n",
       "    <tr>\n",
       "      <th>765</th>\n",
       "      <td>1</td>\n",
       "      <td>93</td>\n",
       "      <td>70</td>\n",
       "      <td>31</td>\n",
       "      <td>112.0</td>\n",
       "      <td>30.4</td>\n",
       "      <td>0.315</td>\n",
       "      <td>23</td>\n",
       "      <td>0</td>\n",
       "    </tr>\n",
       "  </tbody>\n",
       "</table>\n",
       "<p>765 rows × 9 columns</p>\n",
       "</div>"
      ],
      "text/plain": [
       "     Pregnancies  Glucose  BloodPressure  SkinThickness  Insulin   BMI  \\\n",
       "1              1       89             66             23     94.0  28.1   \n",
       "2              0      137             40             35    168.0  43.1   \n",
       "3              5      116             74             35    168.0  25.6   \n",
       "4              3       78             50             32     88.0  31.0   \n",
       "5             10      115             50             32     88.0  35.3   \n",
       "..           ...      ...            ...            ...      ...   ...   \n",
       "761           10      101             76             48    180.0  32.9   \n",
       "762            2      122             70             27    180.0  36.8   \n",
       "763            5      121             72             23    112.0  26.2   \n",
       "764            1      126             60             23    112.0  30.1   \n",
       "765            1       93             70             31    112.0  30.4   \n",
       "\n",
       "     DiabetesPedigreeFunction  Age  Outcome  \n",
       "1                       0.167   21        0  \n",
       "2                       2.288   33        1  \n",
       "3                       0.201   30        0  \n",
       "4                       0.248   26        1  \n",
       "5                       0.134   29        0  \n",
       "..                        ...  ...      ...  \n",
       "761                     0.171   63        0  \n",
       "762                     0.340   27        0  \n",
       "763                     0.245   30        0  \n",
       "764                     0.349   47        1  \n",
       "765                     0.315   23        0  \n",
       "\n",
       "[765 rows x 9 columns]"
      ]
     },
     "execution_count": 8,
     "metadata": {},
     "output_type": "execute_result"
    }
   ],
   "source": [
    "# resulting data frame\n",
    "df.index = np.arange(1, len(df) + 1)\n",
    "df"
   ]
  },
  {
   "cell_type": "markdown",
   "metadata": {},
   "source": [
    "<a id='eda'></a>\n",
    "## Exploratory Data Analysis\n",
    "\n",
    "> **Tip**: Now that we've trimmed and cleaned our data, we're ready to move on to exploration. Compute statistics and create visualizations with the goal of addressing the research questions that we posed in the Introduction section."
   ]
  },
  {
   "cell_type": "markdown",
   "metadata": {},
   "source": [
    "### how does every attribute affects the possibility of having diabetes ? "
   ]
  },
  {
   "cell_type": "code",
   "execution_count": 9,
   "metadata": {},
   "outputs": [
    {
     "data": {
      "text/plain": [
       "<matplotlib.legend.Legend at 0x1d9d91da550>"
      ]
     },
     "execution_count": 9,
     "metadata": {},
     "output_type": "execute_result"
    },
    {
     "data": {
      "image/png": "[encoded data removed]",
      "text/plain": [
       "<Figure size 1440x432 with 1 Axes>"
      ]
     },
     "metadata": {
      "needs_background": "light"
     },
     "output_type": "display_data"
    }
   ],
   "source": [
    "plt.figure(figsize=(20,6))\n",
    "sns.histplot(x='Pregnancies',hue = 'Outcome', data=df, legend=True, discrete=True)\n",
    "plt.legend([\"with Diabetes\", \"Without Diabetes\"])"
   ]
  },
  {
   "cell_type": "markdown",
   "metadata": {},
   "source": [
    "> **Note**: from this graph we get that the numbert of people having diabetes nearly does not increase with the increase of number of Pregnancies but people with less number of Pregnancies have less chance to get diabestes because people with less than 3 Pregnancies that do not have diabetes are far more than people that have diabetes with less than 3 Pregnancies"
   ]
  },
  {
   "cell_type": "code",
   "execution_count": 10,
   "metadata": {},
   "outputs": [
    {
     "data": {
      "text/plain": [
       "<matplotlib.legend.Legend at 0x1d9d989bfa0>"
      ]
     },
     "execution_count": 10,
     "metadata": {},
     "output_type": "execute_result"
    },
    {
     "data": {
      "image/png": "[encoded data removed]",
      "text/plain": [
       "<Figure size 1440x432 with 1 Axes>"
      ]
     },
     "metadata": {
      "needs_background": "light"
     },
     "output_type": "display_data"
    }
   ],
   "source": [
    "plt.figure(figsize=(20,6))\n",
    "sns.histplot(x='Glucose',hue = 'Outcome', data=df, legend=True, discrete=True)\n",
    "plt.legend([\"with Diabetes\", \"Without Diabetes\"])"
   ]
  },
  {
   "cell_type": "markdown",
   "metadata": {},
   "source": [
    "> **Note**: from this graph we get that the numbert of people that does not have diabetes decreases with the increase of Glucose so people with more Glucose have more chance to get diabestes. because most of the people that has more that 150 Glucose have diabetes."
   ]
  },
  {
   "cell_type": "code",
   "execution_count": 11,
   "metadata": {},
   "outputs": [
    {
     "data": {
      "text/plain": [
       "<matplotlib.legend.Legend at 0x1d9d936fbb0>"
      ]
     },
     "execution_count": 11,
     "metadata": {},
     "output_type": "execute_result"
    },
    {
     "data": {
      "image/png": "[encoded data removed]",
      "text/plain": [
       "<Figure size 1440x432 with 1 Axes>"
      ]
     },
     "metadata": {
      "needs_background": "light"
     },
     "output_type": "display_data"
    }
   ],
   "source": [
    "plt.figure(figsize=(20,6))\n",
    "sns.histplot(x='BloodPressure',hue = 'Outcome', data=df, legend=True, discrete=True)\n",
    "plt.legend([\"with Diabetes\", \"Without Diabetes\"])"
   ]
  },
  {
   "cell_type": "markdown",
   "metadata": {},
   "source": [
    "> **Note**: from this graph we get that the numbert of people having diabetes increases with the increase of BloodPressure so people with high BloodPressure (more than 60) have more chance to get diabestes."
   ]
  },
  {
   "cell_type": "code",
   "execution_count": 12,
   "metadata": {},
   "outputs": [
    {
     "data": {
      "text/plain": [
       "<matplotlib.legend.Legend at 0x1d9dad19280>"
      ]
     },
     "execution_count": 12,
     "metadata": {},
     "output_type": "execute_result"
    },
    {
     "data": {
      "image/png": "[encoded data removed]",
      "text/plain": [
       "<Figure size 1440x432 with 1 Axes>"
      ]
     },
     "metadata": {
      "needs_background": "light"
     },
     "output_type": "display_data"
    }
   ],
   "source": [
    "plt.figure(figsize=(20,6))\n",
    "sns.histplot(x='SkinThickness',hue = 'Outcome', data=df, legend=True)\n",
    "plt.legend([\"with Diabetes\", \"Without Diabetes\"])"
   ]
  },
  {
   "cell_type": "markdown",
   "metadata": {},
   "source": [
    "> **Note**: from this graph we get that people with higher Skin Thickness (nearly 20 or more) have more chance to get diabetes and their chances of getting diabetes increases with the increase of their Skin Thickness."
   ]
  },
  {
   "cell_type": "code",
   "execution_count": 13,
   "metadata": {},
   "outputs": [
    {
     "data": {
      "text/plain": [
       "<matplotlib.legend.Legend at 0x1d9db1d9fd0>"
      ]
     },
     "execution_count": 13,
     "metadata": {},
     "output_type": "execute_result"
    },
    {
     "data": {
      "image/png": "[encoded data removed]",
      "text/plain": [
       "<Figure size 1440x432 with 1 Axes>"
      ]
     },
     "metadata": {
      "needs_background": "light"
     },
     "output_type": "display_data"
    }
   ],
   "source": [
    "plt.figure(figsize=(20,6))\n",
    "sns.histplot(x='Insulin',hue = 'Outcome', data=df, legend=True)\n",
    "plt.legend([\"with Diabetes\", \"Without Diabetes\"])"
   ]
  },
  {
   "cell_type": "markdown",
   "metadata": {},
   "source": [
    "> **Note**: from this graph we get that people with higher Insulin (nearly 100 or more) have more chance to get diabetes and their chances of getting diabetes increases with the increase of their Insulin."
   ]
  },
  {
   "cell_type": "code",
   "execution_count": 14,
   "metadata": {},
   "outputs": [
    {
     "data": {
      "text/plain": [
       "<matplotlib.legend.Legend at 0x1d9db2bcd30>"
      ]
     },
     "execution_count": 14,
     "metadata": {},
     "output_type": "execute_result"
    },
    {
     "data": {
      "image/png": "[encoded data removed]",
      "text/plain": [
       "<Figure size 1440x432 with 1 Axes>"
      ]
     },
     "metadata": {
      "needs_background": "light"
     },
     "output_type": "display_data"
    }
   ],
   "source": [
    "plt.figure(figsize=(20,6))\n",
    "sns.histplot(x='DiabetesPedigreeFunction',hue = 'Outcome', data=df, legend=True)\n",
    "plt.legend([\"with Diabetes\", \"Without Diabetes\"])"
   ]
  },
  {
   "cell_type": "markdown",
   "metadata": {},
   "source": [
    "> **Note**: from this graph we get that the number of people that does not have diabetes decreases with the increase of Diabetes Pedigree Function so the higher your Diabetes Pedigree Function gets (more than 0.3) the more chance you have diabetes."
   ]
  },
  {
   "cell_type": "code",
   "execution_count": 15,
   "metadata": {},
   "outputs": [
    {
     "data": {
      "text/plain": [
       "<matplotlib.legend.Legend at 0x1d9db346be0>"
      ]
     },
     "execution_count": 15,
     "metadata": {},
     "output_type": "execute_result"
    },
    {
     "data": {
      "image/png": "[encoded data removed]",
      "text/plain": [
       "<Figure size 1440x432 with 1 Axes>"
      ]
     },
     "metadata": {
      "needs_background": "light"
     },
     "output_type": "display_data"
    }
   ],
   "source": [
    "plt.figure(figsize=(20,6))\n",
    "sns.histplot(x='BMI',hue = 'Outcome', data=df, legend=True, discrete=True)\n",
    "plt.legend([\"with Diabetes\", \"Without Diabetes\"])"
   ]
  },
  {
   "cell_type": "markdown",
   "metadata": {},
   "source": [
    "> **Note**: from this graph we get that people with higher Body Mass Index (more than 20) have more chance to get diabetes and their chances of getting diabetes increases with the increase of theirn Body Mass Index."
   ]
  },
  {
   "cell_type": "code",
   "execution_count": 16,
   "metadata": {},
   "outputs": [
    {
     "data": {
      "text/plain": [
       "<matplotlib.legend.Legend at 0x1d9db700160>"
      ]
     },
     "execution_count": 16,
     "metadata": {},
     "output_type": "execute_result"
    },
    {
     "data": {
      "image/png": "[encoded data removed]",
      "text/plain": [
       "<Figure size 1440x432 with 1 Axes>"
      ]
     },
     "metadata": {
      "needs_background": "light"
     },
     "output_type": "display_data"
    }
   ],
   "source": [
    "plt.figure(figsize=(20,6))\n",
    "sns.histplot(x='Age',hue = 'Outcome', data=df, legend=True, discrete=True)\n",
    "plt.legend([\"with Diabetes\", \"Without Diabetes\"])"
   ]
  },
  {
   "cell_type": "markdown",
   "metadata": {},
   "source": [
    "> **Note**: from this graph we get that the numbert of people having diabetes nearly does not increase with the increase age but younger people have less chance to get diabestes because people in thier 20s that do not have diabetes are alot more than people that have diabetes in thier 20s"
   ]
  },
  {
   "cell_type": "markdown",
   "metadata": {},
   "source": [
    "### How attributes relate to each other? which attributes contribute to the highest variances in data?"
   ]
  },
  {
   "cell_type": "code",
   "execution_count": 17,
   "metadata": {
    "scrolled": true
   },
   "outputs": [
    {
     "data": {
      "text/html": [
       "<div>\n",
       "<style scoped>\n",
       "    .dataframe tbody tr th:only-of-type {\n",
       "        vertical-align: middle;\n",
       "    }\n",
       "\n",
       "    .dataframe tbody tr th {\n",
       "        vertical-align: top;\n",
       "    }\n",
       "\n",
       "    .dataframe thead th {\n",
       "        text-align: right;\n",
       "    }\n",
       "</style>\n",
       "<table border=\"1\" class=\"dataframe\">\n",
       "  <thead>\n",
       "    <tr style=\"text-align: right;\">\n",
       "      <th></th>\n",
       "      <th>Pregnancies</th>\n",
       "      <th>Glucose</th>\n",
       "      <th>BloodPressure</th>\n",
       "      <th>SkinThickness</th>\n",
       "      <th>Insulin</th>\n",
       "      <th>BMI</th>\n",
       "      <th>DiabetesPedigreeFunction</th>\n",
       "      <th>Age</th>\n",
       "      <th>Outcome</th>\n",
       "    </tr>\n",
       "  </thead>\n",
       "  <tbody>\n",
       "    <tr>\n",
       "      <th>Pregnancies</th>\n",
       "      <td>11.359351</td>\n",
       "      <td>12.752017</td>\n",
       "      <td>8.136163</td>\n",
       "      <td>3.134319</td>\n",
       "      <td>20.174748</td>\n",
       "      <td>0.556194</td>\n",
       "      <td>-0.039550</td>\n",
       "      <td>21.606375</td>\n",
       "      <td>0.351336</td>\n",
       "    </tr>\n",
       "    <tr>\n",
       "      <th>Glucose</th>\n",
       "      <td>12.752017</td>\n",
       "      <td>928.197783</td>\n",
       "      <td>81.715691</td>\n",
       "      <td>57.296027</td>\n",
       "      <td>1113.733569</td>\n",
       "      <td>48.774359</td>\n",
       "      <td>1.373496</td>\n",
       "      <td>95.755959</td>\n",
       "      <td>7.073406</td>\n",
       "    </tr>\n",
       "    <tr>\n",
       "      <th>BloodPressure</th>\n",
       "      <td>8.136163</td>\n",
       "      <td>81.715691</td>\n",
       "      <td>153.610793</td>\n",
       "      <td>23.187178</td>\n",
       "      <td>97.859504</td>\n",
       "      <td>22.919548</td>\n",
       "      <td>0.008555</td>\n",
       "      <td>46.714521</td>\n",
       "      <td>0.915869</td>\n",
       "    </tr>\n",
       "    <tr>\n",
       "      <th>SkinThickness</th>\n",
       "      <td>3.134319</td>\n",
       "      <td>57.296027</td>\n",
       "      <td>23.187178</td>\n",
       "      <td>111.575670</td>\n",
       "      <td>123.392999</td>\n",
       "      <td>34.186845</td>\n",
       "      <td>0.311236</td>\n",
       "      <td>18.220003</td>\n",
       "      <td>0.843245</td>\n",
       "    </tr>\n",
       "    <tr>\n",
       "      <th>Insulin</th>\n",
       "      <td>20.174748</td>\n",
       "      <td>1113.733569</td>\n",
       "      <td>97.859504</td>\n",
       "      <td>123.392999</td>\n",
       "      <td>13067.782285</td>\n",
       "      <td>85.524390</td>\n",
       "      <td>3.242862</td>\n",
       "      <td>166.259455</td>\n",
       "      <td>8.262672</td>\n",
       "    </tr>\n",
       "    <tr>\n",
       "      <th>BMI</th>\n",
       "      <td>0.556194</td>\n",
       "      <td>48.774359</td>\n",
       "      <td>22.919548</td>\n",
       "      <td>34.186845</td>\n",
       "      <td>85.524390</td>\n",
       "      <td>47.758560</td>\n",
       "      <td>0.361712</td>\n",
       "      <td>1.741695</td>\n",
       "      <td>1.029490</td>\n",
       "    </tr>\n",
       "    <tr>\n",
       "      <th>DiabetesPedigreeFunction</th>\n",
       "      <td>-0.039550</td>\n",
       "      <td>1.373496</td>\n",
       "      <td>0.008555</td>\n",
       "      <td>0.311236</td>\n",
       "      <td>3.242862</td>\n",
       "      <td>0.361712</td>\n",
       "      <td>0.110107</td>\n",
       "      <td>0.127848</td>\n",
       "      <td>0.027222</td>\n",
       "    </tr>\n",
       "    <tr>\n",
       "      <th>Age</th>\n",
       "      <td>21.606375</td>\n",
       "      <td>95.755959</td>\n",
       "      <td>46.714521</td>\n",
       "      <td>18.220003</td>\n",
       "      <td>166.259455</td>\n",
       "      <td>1.741695</td>\n",
       "      <td>0.127848</td>\n",
       "      <td>138.469603</td>\n",
       "      <td>1.327933</td>\n",
       "    </tr>\n",
       "    <tr>\n",
       "      <th>Outcome</th>\n",
       "      <td>0.351336</td>\n",
       "      <td>7.073406</td>\n",
       "      <td>0.915869</td>\n",
       "      <td>0.843245</td>\n",
       "      <td>8.262672</td>\n",
       "      <td>1.029490</td>\n",
       "      <td>0.027222</td>\n",
       "      <td>1.327933</td>\n",
       "      <td>0.227105</td>\n",
       "    </tr>\n",
       "  </tbody>\n",
       "</table>\n",
       "</div>"
      ],
      "text/plain": [
       "                          Pregnancies      Glucose  BloodPressure  \\\n",
       "Pregnancies                 11.359351    12.752017       8.136163   \n",
       "Glucose                     12.752017   928.197783      81.715691   \n",
       "BloodPressure                8.136163    81.715691     153.610793   \n",
       "SkinThickness                3.134319    57.296027      23.187178   \n",
       "Insulin                     20.174748  1113.733569      97.859504   \n",
       "BMI                          0.556194    48.774359      22.919548   \n",
       "DiabetesPedigreeFunction    -0.039550     1.373496       0.008555   \n",
       "Age                         21.606375    95.755959      46.714521   \n",
       "Outcome                      0.351336     7.073406       0.915869   \n",
       "\n",
       "                          SkinThickness       Insulin        BMI  \\\n",
       "Pregnancies                    3.134319     20.174748   0.556194   \n",
       "Glucose                       57.296027   1113.733569  48.774359   \n",
       "BloodPressure                 23.187178     97.859504  22.919548   \n",
       "SkinThickness                111.575670    123.392999  34.186845   \n",
       "Insulin                      123.392999  13067.782285  85.524390   \n",
       "BMI                           34.186845     85.524390  47.758560   \n",
       "DiabetesPedigreeFunction       0.311236      3.242862   0.361712   \n",
       "Age                           18.220003    166.259455   1.741695   \n",
       "Outcome                        0.843245      8.262672   1.029490   \n",
       "\n",
       "                          DiabetesPedigreeFunction         Age   Outcome  \n",
       "Pregnancies                              -0.039550   21.606375  0.351336  \n",
       "Glucose                                   1.373496   95.755959  7.073406  \n",
       "BloodPressure                             0.008555   46.714521  0.915869  \n",
       "SkinThickness                             0.311236   18.220003  0.843245  \n",
       "Insulin                                   3.242862  166.259455  8.262672  \n",
       "BMI                                       0.361712    1.741695  1.029490  \n",
       "DiabetesPedigreeFunction                  0.110107    0.127848  0.027222  \n",
       "Age                                       0.127848  138.469603  1.327933  \n",
       "Outcome                                   0.027222    1.327933  0.227105  "
      ]
     },
     "execution_count": 17,
     "metadata": {},
     "output_type": "execute_result"
    }
   ],
   "source": [
    "covariance = df.cov()\n",
    "covariance"
   ]
  },
  {
   "cell_type": "code",
   "execution_count": 18,
   "metadata": {},
   "outputs": [
    {
     "name": "stdout",
     "output_type": "stream",
     "text": [
      "Here we show which attributes vary with which attributes the most:\n"
     ]
    },
    {
     "data": {
      "text/plain": [
       "Pregnancies                           Age\n",
       "Glucose                           Insulin\n",
       "BloodPressure               BloodPressure\n",
       "SkinThickness                     Insulin\n",
       "Insulin                           Insulin\n",
       "BMI                               Insulin\n",
       "DiabetesPedigreeFunction          Insulin\n",
       "Age                               Insulin\n",
       "Outcome                           Insulin\n",
       "dtype: object"
      ]
     },
     "execution_count": 18,
     "metadata": {},
     "output_type": "execute_result"
    }
   ],
   "source": [
    "print(\"Here we show which attributes vary with which attributes the most:\")\n",
    "covariance.idxmax()"
   ]
  },
  {
   "cell_type": "code",
   "execution_count": 19,
   "metadata": {},
   "outputs": [],
   "source": [
    "from sklearn.decomposition import PCA"
   ]
  },
  {
   "cell_type": "code",
   "execution_count": 20,
   "metadata": {},
   "outputs": [
    {
     "data": {
      "text/plain": [
       "array([[ 1.64371983e-03,  9.07876946e-02,  8.13181708e-03,\n",
       "         9.85514340e-03,  9.95672677e-01,  6.86633896e-03,\n",
       "         2.55107377e-04,  1.34124411e-02,  6.76356321e-04],\n",
       "       [ 1.71037042e-02,  9.77637838e-01,  1.13928088e-01,\n",
       "         6.94726012e-02, -9.27932067e-02,  5.59820250e-02,\n",
       "         1.29241795e-03,  1.19668003e-01,  7.68122641e-03],\n",
       "       [ 9.63837106e-02, -1.84556010e-01,  7.36499765e-01,\n",
       "         3.02541492e-01, -7.30238725e-04,  1.41843889e-01,\n",
       "        -2.05096040e-04,  5.50052152e-01,  2.89261618e-03],\n",
       "       [-8.80192590e-02, -1.04734874e-02,  3.98233142e-02,\n",
       "         7.45628086e-01, -1.78579852e-03,  3.68559630e-01,\n",
       "         2.43244258e-03, -5.46577949e-01,  1.73669390e-03],\n",
       "       [ 9.58390619e-02, -3.15930138e-02, -6.52192282e-01,\n",
       "         4.71393507e-01, -4.54248107e-03,  6.23880142e-03,\n",
       "         1.59451317e-03,  5.84957116e-01,  3.63564706e-03],\n",
       "       [-3.09002966e-02,  2.74776156e-02,  1.32543972e-01,\n",
       "         3.54074440e-01,  9.24555386e-04, -9.16716214e-01,\n",
       "        -6.50630618e-03, -1.21103816e-01, -1.66012005e-02],\n",
       "       [ 9.85943549e-01,  3.80483715e-03, -2.86476688e-03,\n",
       "         1.07370846e-03,  3.34527287e-04, -1.15630746e-02,\n",
       "        -7.46338212e-03, -1.65361526e-01,  1.89084562e-02],\n",
       "       [-1.74886489e-02, -6.58275790e-03,  1.92613741e-03,\n",
       "         1.32555828e-03,  4.09855160e-05, -1.77044820e-02,\n",
       "         2.37612827e-01, -2.90450789e-03,  9.71011640e-01],\n",
       "       [ 1.17074367e-02,  5.38085870e-04,  1.36735031e-03,\n",
       "        -6.16523425e-04, -1.27524669e-04, -2.87796980e-03,\n",
       "         9.71304213e-01, -1.00938299e-03, -2.37527273e-01]])"
      ]
     },
     "execution_count": 20,
     "metadata": {},
     "output_type": "execute_result"
    }
   ],
   "source": [
    "pca=PCA(n_components=9)\n",
    "pca.fit(df)\n",
    "pca.components_"
   ]
  },
  {
   "cell_type": "code",
   "execution_count": 21,
   "metadata": {},
   "outputs": [
    {
     "data": {
      "text/plain": [
       "array([1.31742248e+04, 8.50875625e+02, 1.82932951e+02, 1.14889019e+02,\n",
       "       9.81728432e+01, 2.99621536e+01, 7.77189301e+00, 1.60060070e-01,\n",
       "       1.01917939e-01])"
      ]
     },
     "execution_count": 21,
     "metadata": {},
     "output_type": "execute_result"
    }
   ],
   "source": [
    "pca.explained_variance_"
   ]
  },
  {
   "cell_type": "code",
   "execution_count": 22,
   "metadata": {},
   "outputs": [
    {
     "name": "stdout",
     "output_type": "stream",
     "text": [
      "Here we show the most effective::varying attributes by order\n",
      "Insulin\n",
      "Glucose\n",
      "BloodPressure\n",
      "SkinThickness\n",
      "Age\n",
      "SkinThickness\n",
      "Pregnancies\n",
      "Outcome\n",
      "DiabetesPedigreeFunction\n"
     ]
    }
   ],
   "source": [
    "print(\"Here we show the most effective::varying attributes by order\")\n",
    "for i in pca.components_:\n",
    "   print(list(covariance)[np.argmax(i)])"
   ]
  },
  {
   "cell_type": "markdown",
   "metadata": {},
   "source": [
    "<a id='pre'></a>\n",
    "## Building a Prediction Model (classification)\n"
   ]
  },
  {
   "cell_type": "code",
   "execution_count": 23,
   "metadata": {},
   "outputs": [],
   "source": [
    "from sklearn.preprocessing import StandardScaler"
   ]
  },
  {
   "cell_type": "code",
   "execution_count": 24,
   "metadata": {},
   "outputs": [
    {
     "data": {
      "text/html": [
       "<div>\n",
       "<style scoped>\n",
       "    .dataframe tbody tr th:only-of-type {\n",
       "        vertical-align: middle;\n",
       "    }\n",
       "\n",
       "    .dataframe tbody tr th {\n",
       "        vertical-align: top;\n",
       "    }\n",
       "\n",
       "    .dataframe thead th {\n",
       "        text-align: right;\n",
       "    }\n",
       "</style>\n",
       "<table border=\"1\" class=\"dataframe\">\n",
       "  <thead>\n",
       "    <tr style=\"text-align: right;\">\n",
       "      <th></th>\n",
       "      <th>Pregnancies</th>\n",
       "      <th>Glucose</th>\n",
       "      <th>BloodPressure</th>\n",
       "      <th>SkinThickness</th>\n",
       "      <th>Insulin</th>\n",
       "      <th>BMI</th>\n",
       "      <th>DiabetesPedigreeFunction</th>\n",
       "      <th>Age</th>\n",
       "    </tr>\n",
       "  </thead>\n",
       "  <tbody>\n",
       "    <tr>\n",
       "      <th>0</th>\n",
       "      <td>-0.843346</td>\n",
       "      <td>-1.065710</td>\n",
       "      <td>-0.510913</td>\n",
       "      <td>-0.592171</td>\n",
       "      <td>-0.554379</td>\n",
       "      <td>-0.637143</td>\n",
       "      <td>-0.918469</td>\n",
       "      <td>-1.039450</td>\n",
       "    </tr>\n",
       "    <tr>\n",
       "      <th>1</th>\n",
       "      <td>-1.140244</td>\n",
       "      <td>0.510830</td>\n",
       "      <td>-2.610078</td>\n",
       "      <td>0.544619</td>\n",
       "      <td>0.093382</td>\n",
       "      <td>1.534806</td>\n",
       "      <td>5.477673</td>\n",
       "      <td>-0.019008</td>\n",
       "    </tr>\n",
       "    <tr>\n",
       "      <th>2</th>\n",
       "      <td>0.344246</td>\n",
       "      <td>-0.178906</td>\n",
       "      <td>0.134984</td>\n",
       "      <td>0.544619</td>\n",
       "      <td>0.093382</td>\n",
       "      <td>-0.999135</td>\n",
       "      <td>-0.815938</td>\n",
       "      <td>-0.274119</td>\n",
       "    </tr>\n",
       "    <tr>\n",
       "      <th>3</th>\n",
       "      <td>-0.249550</td>\n",
       "      <td>-1.427001</td>\n",
       "      <td>-1.802707</td>\n",
       "      <td>0.260422</td>\n",
       "      <td>-0.606900</td>\n",
       "      <td>-0.217233</td>\n",
       "      <td>-0.674203</td>\n",
       "      <td>-0.614266</td>\n",
       "    </tr>\n",
       "    <tr>\n",
       "      <th>4</th>\n",
       "      <td>1.828737</td>\n",
       "      <td>-0.211751</td>\n",
       "      <td>-1.802707</td>\n",
       "      <td>0.260422</td>\n",
       "      <td>-0.606900</td>\n",
       "      <td>0.405393</td>\n",
       "      <td>-1.017985</td>\n",
       "      <td>-0.359155</td>\n",
       "    </tr>\n",
       "  </tbody>\n",
       "</table>\n",
       "</div>"
      ],
      "text/plain": [
       "   Pregnancies   Glucose  BloodPressure  SkinThickness   Insulin       BMI  \\\n",
       "0    -0.843346 -1.065710      -0.510913      -0.592171 -0.554379 -0.637143   \n",
       "1    -1.140244  0.510830      -2.610078       0.544619  0.093382  1.534806   \n",
       "2     0.344246 -0.178906       0.134984       0.544619  0.093382 -0.999135   \n",
       "3    -0.249550 -1.427001      -1.802707       0.260422 -0.606900 -0.217233   \n",
       "4     1.828737 -0.211751      -1.802707       0.260422 -0.606900  0.405393   \n",
       "\n",
       "   DiabetesPedigreeFunction       Age  \n",
       "0                 -0.918469 -1.039450  \n",
       "1                  5.477673 -0.019008  \n",
       "2                 -0.815938 -0.274119  \n",
       "3                 -0.674203 -0.614266  \n",
       "4                 -1.017985 -0.359155  "
      ]
     },
     "execution_count": 24,
     "metadata": {},
     "output_type": "execute_result"
    }
   ],
   "source": [
    "# Making a feature scaling\n",
    "scaler = StandardScaler()\n",
    "scaler.fit(df.drop('Outcome',axis=1))\n",
    "scaled_features = scaler.transform(df.drop('Outcome',axis=1))\n",
    "df_feat = pd.DataFrame(scaled_features,columns=df.columns[:-1])\n",
    "df_feat.head()"
   ]
  },
  {
   "cell_type": "code",
   "execution_count": 25,
   "metadata": {},
   "outputs": [],
   "source": [
    "from sklearn.model_selection import train_test_split"
   ]
  },
  {
   "cell_type": "code",
   "execution_count": 26,
   "metadata": {},
   "outputs": [],
   "source": [
    "# Split the data into train and test data\n",
    "y = df['Outcome']\n",
    "X_train, X_test, y_train, y_test = train_test_split(df_feat, y, test_size=0.33, random_state=42)"
   ]
  },
  {
   "cell_type": "markdown",
   "metadata": {},
   "source": [
    "## Comparing the performance (Confusion matrix and classification report) of different classifiers (LR, KNN, SVM, DT and RF)\n",
    "\n",
    "> **Note: we use grid search with a suitable range of values to adjust the hyperparameters of DT and SVM and for loop to adjust the k value of KNN**"
   ]
  },
  {
   "cell_type": "markdown",
   "metadata": {},
   "source": [
    "## Using DT"
   ]
  },
  {
   "cell_type": "code",
   "execution_count": 27,
   "metadata": {},
   "outputs": [],
   "source": [
    "from sklearn.tree import DecisionTreeClassifier\n",
    "from sklearn.model_selection import  KFold,GridSearchCV\n",
    "from sklearn.metrics import classification_report, confusion_matrix"
   ]
  },
  {
   "cell_type": "code",
   "execution_count": 28,
   "metadata": {},
   "outputs": [
    {
     "name": "stdout",
     "output_type": "stream",
     "text": [
      "Best hyerparameters: {'max_depth': 4, 'min_samples_leaf': 8, 'min_samples_split': 2}\n",
      "-------------------------------------------------------------------\n",
      "Best CV accuracy: 0.7479916238339996\n"
     ]
    }
   ],
   "source": [
    "dt = DecisionTreeClassifier()\n",
    "kf = KFold()\n",
    "\n",
    "dt_para = {\n",
    "    'max_depth':[2, 4, 6, 8, 10],\n",
    "    'min_samples_split' : [2, 4, 6, 8, 10],\n",
    "    'min_samples_leaf' : [2, 4, 6, 8, 10]\n",
    "}\n",
    "\n",
    "grid_no_up = GridSearchCV(dt, param_grid=dt_para, cv=kf, scoring='accuracy', n_jobs=-1, refit=True)\n",
    "grid_no_up.fit(X_train, y_train)\n",
    "\n",
    "best_hyperparams = grid_no_up.best_params_\n",
    "print('Best hyerparameters:', best_hyperparams)\n",
    "print(\"-------------------------------------------------------------------\")\n",
    "\n",
    "best_CV_score = grid_no_up.best_score_\n",
    "print('Best CV accuracy:', best_CV_score)"
   ]
  },
  {
   "cell_type": "code",
   "execution_count": 29,
   "metadata": {},
   "outputs": [
    {
     "name": "stdout",
     "output_type": "stream",
     "text": [
      "[[139  32]\n",
      " [ 34  48]]\n",
      "-------------------------------------------------------------------\n",
      "              precision    recall  f1-score   support\n",
      "\n",
      "           0       0.80      0.81      0.81       171\n",
      "           1       0.60      0.59      0.59        82\n",
      "\n",
      "    accuracy                           0.74       253\n",
      "   macro avg       0.70      0.70      0.70       253\n",
      "weighted avg       0.74      0.74      0.74       253\n",
      "\n"
     ]
    }
   ],
   "source": [
    "dt = DecisionTreeClassifier(max_depth=4, min_samples_leaf=8, min_samples_split=2)\n",
    "dt = dt.fit(X_train,y_train)\n",
    "dt_pred = dt.predict(X_test)\n",
    "\n",
    "print(confusion_matrix(y_test, dt_pred))\n",
    "print(\"-------------------------------------------------------------------\")\n",
    "print(classification_report(y_test, dt_pred))"
   ]
  },
  {
   "cell_type": "markdown",
   "metadata": {},
   "source": [
    "## Using RF"
   ]
  },
  {
   "cell_type": "code",
   "execution_count": 30,
   "metadata": {},
   "outputs": [],
   "source": [
    "from sklearn.ensemble import RandomForestClassifier"
   ]
  },
  {
   "cell_type": "code",
   "execution_count": 31,
   "metadata": {},
   "outputs": [
    {
     "name": "stdout",
     "output_type": "stream",
     "text": [
      "[[142  29]\n",
      " [ 28  54]]\n",
      "-------------------------------------------------------------------\n",
      "              precision    recall  f1-score   support\n",
      "\n",
      "           0       0.84      0.83      0.83       171\n",
      "           1       0.65      0.66      0.65        82\n",
      "\n",
      "    accuracy                           0.77       253\n",
      "   macro avg       0.74      0.74      0.74       253\n",
      "weighted avg       0.78      0.77      0.78       253\n",
      "\n"
     ]
    }
   ],
   "source": [
    "rf = RandomForestClassifier(n_estimators = 200)\n",
    "rf = rf.fit(X_train, y_train)\n",
    "rf_pred = rf.predict(X_test)\n",
    "\n",
    "print(confusion_matrix(y_test, rf_pred))\n",
    "print(\"-------------------------------------------------------------------\")\n",
    "print(classification_report(y_test, rf_pred))"
   ]
  },
  {
   "cell_type": "markdown",
   "metadata": {},
   "source": [
    "## Using LR"
   ]
  },
  {
   "cell_type": "code",
   "execution_count": 32,
   "metadata": {},
   "outputs": [],
   "source": [
    "from sklearn.linear_model import LogisticRegression"
   ]
  },
  {
   "cell_type": "code",
   "execution_count": 33,
   "metadata": {},
   "outputs": [
    {
     "name": "stdout",
     "output_type": "stream",
     "text": [
      "[[150  21]\n",
      " [ 32  50]]\n",
      "-------------------------------------------------------------------\n",
      "              precision    recall  f1-score   support\n",
      "\n",
      "           0       0.82      0.88      0.85       171\n",
      "           1       0.70      0.61      0.65        82\n",
      "\n",
      "    accuracy                           0.79       253\n",
      "   macro avg       0.76      0.74      0.75       253\n",
      "weighted avg       0.79      0.79      0.79       253\n",
      "\n"
     ]
    }
   ],
   "source": [
    "lr = LogisticRegression()\n",
    "lr.fit(X_train,y_train)\n",
    "lr_pred = lr.predict(X_test)\n",
    "\n",
    "print(confusion_matrix(y_test, lr_pred))\n",
    "print(\"-------------------------------------------------------------------\")\n",
    "print(classification_report(y_test, lr_pred))"
   ]
  },
  {
   "cell_type": "markdown",
   "metadata": {},
   "source": [
    "## Using KNN"
   ]
  },
  {
   "cell_type": "code",
   "execution_count": 34,
   "metadata": {},
   "outputs": [],
   "source": [
    "from sklearn.neighbors import KNeighborsClassifier"
   ]
  },
  {
   "cell_type": "code",
   "execution_count": 35,
   "metadata": {},
   "outputs": [],
   "source": [
    "error_rate = []\n",
    "for i in range(1,40):\n",
    "    knn = KNeighborsClassifier(n_neighbors=i)\n",
    "    knn.fit(X_train,y_train)\n",
    "    pred_i = knn.predict(X_test)\n",
    "    error_rate.append(np.mean(pred_i != y_test))"
   ]
  },
  {
   "cell_type": "code",
   "execution_count": 36,
   "metadata": {},
   "outputs": [
    {
     "data": {
      "text/plain": [
       "Text(0, 0.5, 'Error Rate')"
      ]
     },
     "execution_count": 36,
     "metadata": {},
     "output_type": "execute_result"
    },
    {
     "data": {
      "image/png": "[encoded data removed]",
      "text/plain": [
       "<Figure size 1440x432 with 1 Axes>"
      ]
     },
     "metadata": {
      "needs_background": "light"
     },
     "output_type": "display_data"
    }
   ],
   "source": [
    "plt.figure(figsize=(20,6))\n",
    "plt.plot(range(1,40),error_rate,color='blue', linestyle='dashed', marker='o',\n",
    "         markerfacecolor='red', markersize=10)\n",
    "plt.title('Error Rate vs. K Value')\n",
    "plt.xlabel('K')\n",
    "plt.ylabel('Error Rate')"
   ]
  },
  {
   "cell_type": "code",
   "execution_count": 37,
   "metadata": {},
   "outputs": [
    {
     "name": "stdout",
     "output_type": "stream",
     "text": [
      "[[159  12]\n",
      " [ 44  38]]\n",
      "-------------------------------------------------------------------\n",
      "              precision    recall  f1-score   support\n",
      "\n",
      "           0       0.78      0.93      0.85       171\n",
      "           1       0.76      0.46      0.58        82\n",
      "\n",
      "    accuracy                           0.78       253\n",
      "   macro avg       0.77      0.70      0.71       253\n",
      "weighted avg       0.78      0.78      0.76       253\n",
      "\n"
     ]
    }
   ],
   "source": [
    "knn = KNeighborsClassifier(n_neighbors=38)\n",
    "knn.fit(X_train,y_train)\n",
    "knn_pred = knn.predict(X_test)\n",
    "\n",
    "print(confusion_matrix(y_test, knn_pred))\n",
    "print(\"-------------------------------------------------------------------\")\n",
    "print(classification_report(y_test, knn_pred))"
   ]
  },
  {
   "cell_type": "markdown",
   "metadata": {},
   "source": [
    "## Using SVM"
   ]
  },
  {
   "cell_type": "code",
   "execution_count": 38,
   "metadata": {},
   "outputs": [],
   "source": [
    "from sklearn.svm import SVC"
   ]
  },
  {
   "cell_type": "code",
   "execution_count": 39,
   "metadata": {},
   "outputs": [
    {
     "name": "stdout",
     "output_type": "stream",
     "text": [
      "Best hyerparameters: {'C': 1000, 'gamma': 0.001, 'kernel': 'rbf'}\n",
      "-------------------------------------------------------------------\n",
      "Best CV accuracy: 0.7559299447934513\n"
     ]
    }
   ],
   "source": [
    "svm = SVC()\n",
    "kf = KFold()\n",
    "\n",
    "svm_para = {'C':[0.1,1,10,100,1000],'gamma':[1,0.1,0.001,0.0001], 'kernel':['linear','rbf']}\n",
    "\n",
    "grid_no_up = GridSearchCV(svm, param_grid=svm_para, cv=kf, scoring='accuracy', n_jobs=-1, refit=True)\n",
    "grid_no_up.fit(X_train, y_train)\n",
    "\n",
    "best_hyperparams = grid_no_up.best_params_\n",
    "print('Best hyerparameters:', best_hyperparams)\n",
    "print(\"-------------------------------------------------------------------\")\n",
    "\n",
    "best_CV_score = grid_no_up.best_score_\n",
    "print('Best CV accuracy:', best_CV_score)"
   ]
  },
  {
   "cell_type": "code",
   "execution_count": 40,
   "metadata": {},
   "outputs": [
    {
     "name": "stdout",
     "output_type": "stream",
     "text": [
      "[[148  23]\n",
      " [ 35  47]]\n",
      "-------------------------------------------------------------------\n",
      "              precision    recall  f1-score   support\n",
      "\n",
      "           0       0.81      0.87      0.84       171\n",
      "           1       0.67      0.57      0.62        82\n",
      "\n",
      "    accuracy                           0.77       253\n",
      "   macro avg       0.74      0.72      0.73       253\n",
      "weighted avg       0.76      0.77      0.77       253\n",
      "\n"
     ]
    }
   ],
   "source": [
    "svm = SVC(C=1000, gamma=0.001, kernel='rbf')\n",
    "svm.fit(X_train,y_train)\n",
    "svm_pred = svm.predict(X_test)\n",
    "\n",
    "print(confusion_matrix(y_test, svm_pred))\n",
    "print(\"-------------------------------------------------------------------\")\n",
    "print(classification_report(y_test, svm_pred))"
   ]
  },
  {
   "cell_type": "markdown",
   "metadata": {},
   "source": [
    "<a id='conclusions'></a>\n",
    "## Conclusions\n",
    "\n",
    "> We denote from the graphs that every attribute has its own \n",
    "effect on the chance that a person has diabetes .\n",
    "We observed that an increase in number of pregnancies \n",
    "is inversely proportional to the chance of having diabetes.\n",
    "We can say that as we observed a decrease in the count of diabetes\n",
    "for number of pregnancies higher than 2 .\n",
    "And for people who have glucose higher than 140-150 ,\n",
    "they have more chance of having diabetes.\n",
    "We aslo concluded from the blood pressure graph that the\n",
    "the increase in blood pressure is directly proportional\n",
    "to the chance a person has diabetes , also people with \n",
    "blood pressue less than 60 have very low chance of having diabetes .\n",
    "People with higher skin thickness have more chance of having\n",
    "diabetes than people with lower skin thickness.The chances increase \n",
    "even more after skin thickness of 40.\n",
    "Furthermore ,people with higher insulin have more chance of \n",
    "having diabetes especially for insulin higher than 100.\n",
    "The number of people that does not have diabetes decreases with the \n",
    "increase of Diabetes Pedigree Function so the higher \n",
    "your Diabetes Pedigree Function gets specially after 0.6 \n",
    "where you have more chance that you have diabetes.\n",
    "People with higher body mass index of 22 or higher have more chance\n",
    "of having diabetes , the probability increases even more for values \n",
    "starting from 32-34.\n",
    " Young people until age of 30 have signifiantly less chance of having \n",
    "diabetes than elder people.\n",
    "\n",
    "> So in conclusion a person with high chance of having diabetes is a person with:\n",
    "-More than 2 pregnancies\n",
    "-Glucose concentraion of 140-150\n",
    "-Have higher than 60 blood pressue \n",
    "-Have high skin thickness of 40 or higher\n",
    "-Have high insulin levels , specially over 100\n",
    "-Have body mass index of 22 or higher\n",
    "-Diabetes Pedigree Function high specially after \n",
    "-Being an elderly person at least 30 years old\n",
    "\n",
    "> We tried several values of K neighbours to obsereve\n",
    "the most optimum value for K , we concluded that k=38 \n",
    "would be the best value as it gave us the least Error Rate."
   ]
  }
 ],
 "metadata": {
  "kernelspec": {
   "display_name": "Python 3",
   "language": "python",
   "name": "python3"
  },
  "language_info": {
   "codemirror_mode": {
    "name": "ipython",
    "version": 3
   },
   "file_extension": ".py",
   "mimetype": "text/x-python",
   "name": "python",
   "nbconvert_exporter": "python",
   "pygments_lexer": "ipython3",
   "version": "3.8.8"
  }
 },
 "nbformat": 4,
 "nbformat_minor": 2
}
